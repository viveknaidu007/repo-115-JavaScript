{
 "cells": [
  {
   "cell_type": "code",
   "execution_count": null,
   "metadata": {},
   "outputs": [],
   "source": [
    "#here we can set the time at what time we want to display the alert"
   ]
  },
  {
   "cell_type": "code",
   "execution_count": null,
   "metadata": {
    "vscode": {
     "languageId": "html"
    }
   },
   "outputs": [],
   "source": [
    "<!DOCTYPE html>\n",
    "<html lang=\"en\">\n",
    "    <head>\n",
    "        <meta charset=\"UTF-8\">\n",
    "        <meta http-equiv=\"X-UA-Compatible\" content=\"IE=edge\">\n",
    "        <meta name=\"viewport\" content=\"width=device-width, initial-scale=1.0\">\n",
    "        <title> Document </title>\n",
    "        <!-- set timeout() and set interval() functions -->\n",
    "    </head>\n",
    "    <h1> this is heading</h1>\n",
    "    <body>\n",
    "        <script>\n",
    "            setTimeout(function(){\n",
    "                alert(\"function called\")\n",
    "            },3000);\n",
    "            console.log(\"hello\")\n",
    "        </script>\n",
    "    </body>\n",
    "\n",
    "</html>"
   ]
  },
  {
   "cell_type": "code",
   "execution_count": null,
   "metadata": {
    "vscode": {
     "languageId": "html"
    }
   },
   "outputs": [],
   "source": [
    "#ex:"
   ]
  },
  {
   "cell_type": "code",
   "execution_count": null,
   "metadata": {
    "vscode": {
     "languageId": "html"
    }
   },
   "outputs": [],
   "source": [
    "<!DOCTYPE html>\n",
    "<html lang=\"en\">\n",
    "    <head>\n",
    "        <meta charset=\"UTF-8\">\n",
    "        <meta http-equiv=\"X-UA-Compatible\" content=\"IE=edge\">\n",
    "        <meta name=\"viewport\" content=\"width=device-width, initial-scale=1.0\">\n",
    "        <title> Document </title>\n",
    "        <!-- set timeout() and set interval() functions -->\n",
    "    </head>\n",
    "    <h1> this is heading</h1>\n",
    "    <body>\n",
    "        <script>\n",
    "            setTimeout(function(name){\n",
    "                alert(\"hello\"+name)\n",
    "            },3000,\"xyz\");\n",
    "            console.log(\"hello\")\n",
    "        </script>\n",
    "    </body>\n",
    "\n",
    "</html>"
   ]
  },
  {
   "cell_type": "code",
   "execution_count": null,
   "metadata": {
    "vscode": {
     "languageId": "html"
    }
   },
   "outputs": [],
   "source": [
    "#ex:\n"
   ]
  },
  {
   "cell_type": "code",
   "execution_count": null,
   "metadata": {
    "vscode": {
     "languageId": "html"
    }
   },
   "outputs": [],
   "source": [
    "<!DOCTYPE html>\n",
    "<html lang=\"en\">\n",
    "    <head>\n",
    "        <meta charset=\"UTF-8\">\n",
    "        <meta http-equiv=\"X-UA-Compatible\" content=\"IE=edge\">\n",
    "        <meta name=\"viewport\" content=\"width=device-width, initial-scale=1.0\">\n",
    "        <title> Document </title>\n",
    "        <!-- set timeout() and set interval() functions -->\n",
    "    </head>\n",
    "    <h1> this is heading</h1>\n",
    "    <body>\n",
    "        <script>\n",
    "            var counter = 1\n",
    "            var x = setInterval(test,3000,\"xyz\")\n",
    "            console.log(x)\n",
    "\n",
    "            console.log(\"hello\")\n",
    "            function test(name){\n",
    "                alert(\"called\" + counter)\n",
    "                counter++\n",
    "                if(counter>5){\n",
    "                    clearInterval(x)\n",
    "                }\n",
    "            }\n",
    "        </script>\n",
    "    </body>\n",
    "\n",
    "</html>"
   ]
  }
 ],
 "metadata": {
  "language_info": {
   "name": "python"
  }
 },
 "nbformat": 4,
 "nbformat_minor": 2
}
