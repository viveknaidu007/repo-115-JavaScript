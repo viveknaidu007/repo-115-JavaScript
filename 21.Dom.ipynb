{
 "cells": [
  {
   "cell_type": "code",
   "execution_count": null,
   "metadata": {},
   "outputs": [],
   "source": []
  },
  {
   "cell_type": "markdown",
   "metadata": {},
   "source": [
    "![p](img\\img6.png)"
   ]
  },
  {
   "cell_type": "markdown",
   "metadata": {},
   "source": [
    "![p](img\\img7.png)"
   ]
  },
  {
   "cell_type": "markdown",
   "metadata": {},
   "source": [
    "![p](img\\img8.png)"
   ]
  },
  {
   "cell_type": "markdown",
   "metadata": {},
   "source": [
    "![p](img\\img9.png)"
   ]
  },
  {
   "cell_type": "code",
   "execution_count": null,
   "metadata": {},
   "outputs": [],
   "source": []
  },
  {
   "cell_type": "code",
   "execution_count": null,
   "metadata": {},
   "outputs": [],
   "source": [
    "#ex use case:\n"
   ]
  },
  {
   "cell_type": "code",
   "execution_count": null,
   "metadata": {
    "vscode": {
     "languageId": "html"
    }
   },
   "outputs": [],
   "source": [
    "<!DOCTYPE html>\n",
    "<html>\n",
    "    <head>\n",
    "        <meta charset=\"UTF-8\">\n",
    "        <meta http-equiv=\"X-UA-Compatible\" content=\"IE=edge\">\n",
    "        <meta name=\"viewport\" content=\"width=device-width, initial-scale=1.0\">\n",
    "        <title> Js variables</title>\n",
    "    </head>\n",
    "\n",
    "    <body>\n",
    "        <h1 id=\"first\"> this is h1 tag </h1>\n",
    "        <script>\n",
    "            let x = document.getElementById(\"first\")\n",
    "            console.log(x)\n",
    "        </script>\n",
    "    </body>\n",
    "</html>"
   ]
  },
  {
   "cell_type": "code",
   "execution_count": null,
   "metadata": {
    "vscode": {
     "languageId": "html"
    }
   },
   "outputs": [],
   "source": [
    "#first method : document.getelementBYID(\"idname\")"
   ]
  },
  {
   "cell_type": "code",
   "execution_count": null,
   "metadata": {
    "vscode": {
     "languageId": "html"
    }
   },
   "outputs": [],
   "source": [
    "<!DOCTYPE html>\n",
    "<html>\n",
    "    <head>\n",
    "        <meta charset=\"UTF-8\">\n",
    "        <meta http-equiv=\"X-UA-Compatible\" content=\"IE=edge\">\n",
    "        <meta name=\"viewport\" content=\"width=device-width, initial-scale=1.0\">\n",
    "        <title> Js variables</title>\n",
    "    </head>\n",
    "\n",
    "    <body>\n",
    "        <div id=\"first\">\n",
    "            <h2> this is heading 1</h2>\n",
    "            <h2> this is paragraph</h2>\n",
    "            <p> this is vivek </p>\n",
    "        </div>\n",
    "\n",
    "        <script>\n",
    "            let x = document.getElementById(\"first\")\n",
    "            console.log(x)\n",
    "        </script>\n",
    "    </body>"
   ]
  },
  {
   "cell_type": "code",
   "execution_count": null,
   "metadata": {
    "vscode": {
     "languageId": "html"
    }
   },
   "outputs": [],
   "source": [
    "#second method:"
   ]
  },
  {
   "cell_type": "code",
   "execution_count": null,
   "metadata": {
    "vscode": {
     "languageId": "html"
    }
   },
   "outputs": [],
   "source": [
    "<!DOCTYPE html>\n",
    "<html>\n",
    "    <head>\n",
    "        <meta charset=\"UTF-8\">\n",
    "        <meta http-equiv=\"X-UA-Compatible\" content=\"IE=edge\">\n",
    "        <meta name=\"viewport\" content=\"width=device-width, initial-scale=1.0\">\n",
    "        <title> Js variables</title>\n",
    "    </head>\n",
    "\n",
    "    <body>\n",
    "        <div id=\"special\">\n",
    "            <h2> this is heading 1</h2>\n",
    "            <h2> this is paragraph</h2>\n",
    "            <p> this is vivek </p>\n",
    "        </div>\n",
    "\n",
    "        <div id=\"special\">\n",
    "            <h2> this is heading</h2>\n",
    "            <p>this vivek2</p>\n",
    "        </div>\n",
    "\n",
    "        <script>\n",
    "            let x = document.getElementsByClassName(\"special\")\n",
    "            console.log(x)\n",
    "        </script>\n",
    "    </body>"
   ]
  },
  {
   "cell_type": "code",
   "execution_count": null,
   "metadata": {
    "vscode": {
     "languageId": "html"
    }
   },
   "outputs": [],
   "source": [
    "#third method:"
   ]
  },
  {
   "cell_type": "code",
   "execution_count": null,
   "metadata": {
    "vscode": {
     "languageId": "html"
    }
   },
   "outputs": [],
   "source": [
    "<!DOCTYPE html>\n",
    "<html>\n",
    "    <head>\n",
    "        <meta charset=\"UTF-8\">\n",
    "        <meta http-equiv=\"X-UA-Compatible\" content=\"IE=edge\">\n",
    "        <meta name=\"viewport\" content=\"width=device-width, initial-scale=1.0\">\n",
    "        <title> Js variables</title>\n",
    "    </head>\n",
    "\n",
    "    <body>\n",
    "        <p> hello</p>\n",
    "        <h2>hi this is vke</h2>\n",
    "        <h1> hello how r ru </h1>\n",
    "\n",
    "        <script>\n",
    "            let x = document.getElementsByTagName(\"h2\")\n",
    "            console.log(x)\n",
    "        </script>\n",
    "    </body>"
   ]
  },
  {
   "cell_type": "code",
   "execution_count": null,
   "metadata": {
    "vscode": {
     "languageId": "html"
    }
   },
   "outputs": [],
   "source": [
    "# 4th method:"
   ]
  },
  {
   "cell_type": "code",
   "execution_count": null,
   "metadata": {
    "vscode": {
     "languageId": "html"
    }
   },
   "outputs": [],
   "source": [
    "<!DOCTYPE html>\n",
    "<html>\n",
    "    <head>\n",
    "        <meta charset=\"UTF-8\">\n",
    "        <meta http-equiv=\"X-UA-Compatible\" content=\"IE=edge\">\n",
    "        <meta name=\"viewport\" content=\"width=device-width, initial-scale=1.0\">\n",
    "        <title> Js variables</title>\n",
    "    </head>\n",
    "\n",
    "    <body>\n",
    "        <div class=\"special\">\n",
    "            <h2> this is heading 1</h2>\n",
    "            <h2> this is paragraph</h2>\n",
    "            <p> this is vivek </p>\n",
    "        </div>\n",
    "\n",
    "        <div class=\"special\">\n",
    "            <h2> this is heading</h2>\n",
    "            <p>this vivek2</p>\n",
    "        </div>\n",
    "\n",
    "        <script>\n",
    "            let x = document.querySelector(\".special\")\n",
    "            console.log(x)\n",
    "        </script>\n",
    "    </body>"
   ]
  },
  {
   "cell_type": "code",
   "execution_count": null,
   "metadata": {
    "vscode": {
     "languageId": "html"
    }
   },
   "outputs": [],
   "source": [
    "#5th method:"
   ]
  },
  {
   "cell_type": "code",
   "execution_count": null,
   "metadata": {
    "vscode": {
     "languageId": "html"
    }
   },
   "outputs": [],
   "source": [
    "<!DOCTYPE html>\n",
    "<html>\n",
    "    <head>\n",
    "        <meta charset=\"UTF-8\">\n",
    "        <meta http-equiv=\"X-UA-Compatible\" content=\"IE=edge\">\n",
    "        <meta name=\"viewport\" content=\"width=device-width, initial-scale=1.0\">\n",
    "        <title> Js variables</title>\n",
    "    </head>\n",
    "\n",
    "    <body>\n",
    "        <div id=\"special\">\n",
    "            <h2> this is heading 1</h2>\n",
    "            <h2> this is paragraph</h2>\n",
    "            <p> this is vivek </p>\n",
    "        </div>\n",
    "\n",
    "        <div id=\"special2\">\n",
    "            <h2> this is heading</h2>\n",
    "            <p>this vivek2</p>\n",
    "        </div>\n",
    "\n",
    "        <script>\n",
    "            let x = document.querySelector(\".special\")\n",
    "            console.log(x)\n",
    "        </script>\n",
    "    </body>"
   ]
  },
  {
   "cell_type": "markdown",
   "metadata": {},
   "source": [
    "![p](img\\img10.png)"
   ]
  },
  {
   "cell_type": "code",
   "execution_count": null,
   "metadata": {
    "vscode": {
     "languageId": "html"
    }
   },
   "outputs": [],
   "source": [
    "<!DOCTYPE html>\n",
    "<html>\n",
    "    <head>\n",
    "        <meta charset=\"UTF-8\">\n",
    "        <meta http-equiv=\"X-UA-Compatible\" content=\"IE=edge\">\n",
    "        <meta name=\"viewport\" content=\"width=device-width, initial-scale=1.0\">\n",
    "        <title> Js variables</title>\n",
    "    </head>\n",
    "\n",
    "    <body>\n",
    "        <div id=\"special\">\n",
    "            <h2> this is heading 1</h2>\n",
    "            <h2> this is paragraph</h2>\n",
    "            <p> this is vivek </p>\n",
    "        </div>\n",
    "\n",
    "        <div id=\"special2\">\n",
    "            <h2> this is heading</h2>\n",
    "            <p>this vivek2</p>\n",
    "        </div>\n",
    "\n",
    "        <a href=\"\"> link1</a>\n",
    "        <a href=\"\"> link2</a>\n",
    "\n",
    "        <script>\n",
    "            console.log(document)\n",
    "            console.log(document.head)\n",
    "            console.log(document.body)\n",
    "            console.log(document.title)\n",
    "        </script>\n",
    "    </body>"
   ]
  }
 ],
 "metadata": {
  "language_info": {
   "name": "python"
  }
 },
 "nbformat": 4,
 "nbformat_minor": 2
}
