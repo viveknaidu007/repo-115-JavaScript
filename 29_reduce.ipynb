{
 "cells": [
  {
   "cell_type": "code",
   "execution_count": null,
   "metadata": {},
   "outputs": [],
   "source": []
  },
  {
   "cell_type": "code",
   "execution_count": null,
   "metadata": {
    "vscode": {
     "languageId": "html"
    }
   },
   "outputs": [],
   "source": [
    "<!DOCTYPE html>\n",
    "<html lang=\"en\">\n",
    "    <head>\n",
    "        <meta charset=\"UTF-8\">\n",
    "        <meta http-equiv=\"X-UA-Compatible\" content=\"IE=edge\">\n",
    "        <meta name=\"filter_method\" content=\"width=device-width, initial-scale=1.0\">\n",
    "        <title> map </title>\n",
    "    </head>\n",
    "\n",
    "    <body>\n",
    "        <script>\n",
    "\n",
    "            // arrname.reduce(function , accumulator default value)\n",
    "\n",
    "            // function can take 4 arguments\n",
    "\n",
    "            // arr.reduce(acc value,ele,index,array)\n",
    "\n",
    "            // this method returns a single vlaue\n",
    "\n",
    "            var arr = [7,9,8,9,10,78]\n",
    "\n",
    "            arr.reduce(function(acc,ele,index,arr){\n",
    "                if(acc>ele){\n",
    "                    return acc\n",
    "                }\n",
    "                else{\n",
    "                    return ele\n",
    "                }\n",
    "            },arr[0])\n",
    "\n",
    "            console.log(max)\n",
    "        </script>\n",
    "    </body>\n",
    "\n",
    "</html>"
   ]
  },
  {
   "cell_type": "code",
   "execution_count": null,
   "metadata": {
    "vscode": {
     "languageId": "html"
    }
   },
   "outputs": [],
   "source": [
    "#ex:"
   ]
  },
  {
   "cell_type": "code",
   "execution_count": null,
   "metadata": {
    "vscode": {
     "languageId": "html"
    }
   },
   "outputs": [],
   "source": [
    "<!DOCTYPE html>\n",
    "<html lang=\"en\">\n",
    "    <head>\n",
    "        <meta charset=\"UTF-8\">\n",
    "        <meta http-equiv=\"X-UA-Compatible\" content=\"IE=edge\">\n",
    "        <meta name=\"filter_method\" content=\"width=device-width, initial-scale=1.0\">\n",
    "        <title> map </title>\n",
    "    </head>\n",
    "\n",
    "    <body>\n",
    "        <script>\n",
    "\n",
    "            // arrname.reduce(function , accumulator default value)\n",
    "\n",
    "            // function can take 4 arguments\n",
    "\n",
    "            // arr.reduce(acc value,ele,index,array)\n",
    "\n",
    "            // this method returns a single vlaue\n",
    "\n",
    "            var arr = [7,90,5]\n",
    "\n",
    "            var sum = arr.reduce(function(acc,ele){\n",
    "                return acc+ele\n",
    "            },0)\n",
    "\n",
    "            console.log(sum)\n",
    "            \n",
    "        </script>\n",
    "    </body>\n",
    "\n",
    "</html>"
   ]
  },
  {
   "cell_type": "code",
   "execution_count": null,
   "metadata": {
    "vscode": {
     "languageId": "html"
    }
   },
   "outputs": [],
   "source": [
    "#ex: inspect"
   ]
  },
  {
   "cell_type": "code",
   "execution_count": null,
   "metadata": {
    "vscode": {
     "languageId": "html"
    }
   },
   "outputs": [],
   "source": [
    "<!DOCTYPE html>\n",
    "<html lang=\"en\">\n",
    "    <head>\n",
    "        <meta charset=\"UTF-8\">\n",
    "        <meta http-equiv=\"X-UA-Compatible\" content=\"IE=edge\">\n",
    "        <meta name=\"filter_method\" content=\"width=device-width, initial-scale=1.0\">\n",
    "        <title> map </title>\n",
    "    </head>\n",
    "\n",
    "    <body>\n",
    "        <script>\n",
    "\n",
    "            // arrname.reduce(function , accumulator default value)\n",
    "\n",
    "            // function can take 4 arguments\n",
    "\n",
    "            // arr.reduce(acc value,ele,index,array)\n",
    "\n",
    "            // this method returns a single vlaue\n",
    "\n",
    "            var arr = [7,90,8]\n",
    "\n",
    "            var sum = arr.reduce((acc,ele)=>acc+ele,0)\n",
    "\n",
    "            console.log(sum)\n",
    "\n",
    "        </script>\n",
    "\n",
    "    </body>\n",
    "    \n",
    "</html>"
   ]
  }
 ],
 "metadata": {
  "language_info": {
   "name": "python"
  }
 },
 "nbformat": 4,
 "nbformat_minor": 2
}
