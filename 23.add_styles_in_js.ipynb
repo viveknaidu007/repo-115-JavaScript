{
 "cells": [
  {
   "cell_type": "code",
   "execution_count": null,
   "metadata": {},
   "outputs": [],
   "source": [
    "#add/change styles in Js"
   ]
  },
  {
   "cell_type": "markdown",
   "metadata": {
    "vscode": {
     "languageId": "html"
    }
   },
   "source": [
    "![p](img\\img12.png)"
   ]
  },
  {
   "cell_type": "code",
   "execution_count": null,
   "metadata": {},
   "outputs": [],
   "source": [
    "#we can update styles here"
   ]
  },
  {
   "cell_type": "code",
   "execution_count": null,
   "metadata": {
    "vscode": {
     "languageId": "html"
    }
   },
   "outputs": [],
   "source": [
    "<!DOCTYPE html>\n",
    "<html>\n",
    "\n",
    "    <head>\n",
    "        <meta charset=\"UTF-8\">\n",
    "        <meta http-equiv=\"X-UA-Compatible\" content=\"IE=edge\">\n",
    "        <meta name=\"viewport\" content=\"width=device-width, initial-scale=1.0\">\n",
    "        <title>add styles in Js</title>\n",
    "    \n",
    "        <style>\n",
    "            #special{\n",
    "                color:blueviolet;\n",
    "            }\n",
    "        </style>\n",
    "    \n",
    "    </head>\n",
    "\n",
    "    <body>\n",
    "        <div id=\"special\"> this is division </div>\n",
    "    </body>\n",
    "\n",
    "    <script>\n",
    "        var x = document.getElementById(\"special\");\n",
    "        x.style.color=\"blue\";\n",
    "        x.style.border = \"red 3px solid\"\n",
    "    </script>\n",
    "\n",
    "</html>\n",
    "\n",
    "\n",
    "\n"
   ]
  },
  {
   "cell_type": "code",
   "execution_count": null,
   "metadata": {
    "vscode": {
     "languageId": "html"
    }
   },
   "outputs": [],
   "source": [
    "#we can update like this"
   ]
  },
  {
   "cell_type": "code",
   "execution_count": null,
   "metadata": {
    "vscode": {
     "languageId": "html"
    }
   },
   "outputs": [],
   "source": [
    "<!DOCTYPE html>\n",
    "<html>\n",
    "\n",
    "    <head>\n",
    "        <meta charset=\"UTF-8\">\n",
    "        <meta http-equiv=\"X-UA-Compatible\" content=\"IE=edge\">\n",
    "        <meta name=\"viewport\" content=\"width=device-width, initial-scale=1.0\">\n",
    "        <title>add styles in Js</title>\n",
    "    \n",
    "        <style>\n",
    "            #special{\n",
    "                color:blueviolet;\n",
    "            }\n",
    "        </style>\n",
    "    \n",
    "    </head>\n",
    "\n",
    "    <body>\n",
    "        <div id=\"special\"> this is division </div>\n",
    "\n",
    "    <script>\n",
    "        var x = document.getElementById(\"special\")\n",
    "        console.log(x.getAttribute(\"id\"))\n",
    "    </script>\n",
    "\n",
    "    </body>\n",
    "\n",
    "\n",
    "</html>\n",
    "\n",
    "\n",
    "\n"
   ]
  },
  {
   "cell_type": "code",
   "execution_count": null,
   "metadata": {
    "vscode": {
     "languageId": "html"
    }
   },
   "outputs": [],
   "source": [
    "#taking element class"
   ]
  },
  {
   "cell_type": "code",
   "execution_count": null,
   "metadata": {
    "vscode": {
     "languageId": "html"
    }
   },
   "outputs": [],
   "source": [
    "<!DOCTYPE html>\n",
    "<html>\n",
    "\n",
    "    <head>\n",
    "        <meta charset=\"UTF-8\">\n",
    "        <meta http-equiv=\"X-UA-Compatible\" content=\"IE=edge\">\n",
    "        <meta name=\"viewport\" content=\"width=device-width, initial-scale=1.0\">\n",
    "        <title>add styles in Js</title>\n",
    "    \n",
    "        <style>\n",
    "            #special{\n",
    "                color:blueviolet;\n",
    "            }\n",
    "            .one{\n",
    "                background-color: blue;\n",
    "\n",
    "            }\n",
    "        </style>\n",
    "    \n",
    "    </head>\n",
    "\n",
    "    <body>\n",
    "        <div id=\"special\"> this is division </div> <br>\n",
    "        <img src=\"img\\img1.png\" alt=\"\" id=\"img1\">\n",
    "    <script>\n",
    "\n",
    "        var x = document.getElementById(\"img1\")\n",
    "        x.style.width = \"100px\"\n",
    "        x.style.height = \"100px\"\n",
    "        console.log(x.style)\n",
    "        \n",
    "    </script>\n",
    "\n",
    "    </body>\n",
    "\n",
    "\n",
    "</html>\n",
    "\n",
    "\n",
    "\n"
   ]
  },
  {
   "cell_type": "code",
   "execution_count": null,
   "metadata": {
    "vscode": {
     "languageId": "html"
    }
   },
   "outputs": [],
   "source": [
    "#ex:"
   ]
  },
  {
   "cell_type": "code",
   "execution_count": null,
   "metadata": {
    "vscode": {
     "languageId": "html"
    }
   },
   "outputs": [],
   "source": [
    "<!DOCTYPE html>\n",
    "<html>\n",
    "\n",
    "    <head>\n",
    "        <meta charset=\"UTF-8\">\n",
    "        <meta http-equiv=\"X-UA-Compatible\" content=\"IE=edge\">\n",
    "        <meta name=\"viewport\" content=\"width=device-width, initial-scale=1.0\">\n",
    "        <title>add styles in Js</title>\n",
    "    \n",
    "        <style>\n",
    "            #special{\n",
    "                color:blueviolet;\n",
    "            }\n",
    "            .one{\n",
    "                background-color: blue;\n",
    "\n",
    "            }\n",
    "        </style>\n",
    "    \n",
    "    </head>\n",
    "\n",
    "    <body>\n",
    "        <div id=\"special\"> this is division </div> <br>\n",
    "        <img src=\"img\\img1.png\" alt=\"\" id=\"img1\">\n",
    "\n",
    "    <script>\n",
    "\n",
    "        var x = document.getElementById(\"img1\")\n",
    "        x.style.width = \"100px\"\n",
    "        x.style.height = \"100px\"\n",
    "        console.log(x.getAttribute('src'))\n",
    "\n",
    "        //x.setAttribute('src','img\\img12.png',)\n",
    "\n",
    "    </script>\n",
    "\n",
    "    </body>\n",
    "\n",
    "\n",
    "</html>\n",
    "\n",
    "\n",
    "\n"
   ]
  },
  {
   "cell_type": "code",
   "execution_count": null,
   "metadata": {
    "vscode": {
     "languageId": "html"
    }
   },
   "outputs": [],
   "source": [
    "#ex:"
   ]
  },
  {
   "cell_type": "code",
   "execution_count": null,
   "metadata": {
    "vscode": {
     "languageId": "html"
    }
   },
   "outputs": [],
   "source": [
    "<!DOCTYPE html>\n",
    "<html>\n",
    "\n",
    "    <head>\n",
    "        <meta charset=\"UTF-8\">\n",
    "        <meta http-equiv=\"X-UA-Compatible\" content=\"IE=edge\">\n",
    "        <meta name=\"viewport\" content=\"width=device-width, initial-scale=1.0\">\n",
    "        <title>add styles in Js</title>\n",
    "    \n",
    "        <style>\n",
    "\n",
    "            #special{\n",
    "                color:blueviolet;\n",
    "            }\n",
    "            .one{\n",
    "                background-color: blue;\n",
    "\n",
    "            }\n",
    "            .two{\n",
    "                border: .50px solid red;\n",
    "            }\n",
    "            .three{\n",
    "                padding: .30px;\n",
    "            }\n",
    "\n",
    "        </style>\n",
    "    \n",
    "    </head>\n",
    "\n",
    "    <body>\n",
    "        <div id=\"special\"> this is division </div> <br>\n",
    "\n",
    "    <script>\n",
    "\n",
    "        var x = document.getElementById(\"special\")\n",
    "\n",
    "        x.classList.add('two')\n",
    "        //x.classList.add('two')\n",
    "        console.log(x.classList)\n",
    "        x.classList.add('three')\n",
    "\n",
    "    </script>\n",
    "\n",
    "    </body>\n",
    "\n",
    "\n",
    "</html>\n"
   ]
  }
 ],
 "metadata": {
  "language_info": {
   "name": "python"
  }
 },
 "nbformat": 4,
 "nbformat_minor": 2
}
