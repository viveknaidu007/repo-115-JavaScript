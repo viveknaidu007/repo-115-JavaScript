{
 "cells": [
  {
   "cell_type": "code",
   "execution_count": null,
   "metadata": {},
   "outputs": [],
   "source": [
    "#modal windoes , it display as afirst wehen we open apge ,i has to be close to got see the main website"
   ]
  },
  {
   "cell_type": "markdown",
   "metadata": {},
   "source": [
    "![p](img\\img13.png)"
   ]
  },
  {
   "cell_type": "code",
   "execution_count": null,
   "metadata": {
    "vscode": {
     "languageId": "html"
    }
   },
   "outputs": [],
   "source": [
    "<!DOCTYPE html>\n",
    "<html>\n",
    "\n",
    "    <head>\n",
    "        <meta charset=\"UTF-8\">\n",
    "        <meta http-equiv=\"X-UA-Compatible\" content=\"IE=edge\">\n",
    "        <meta name=\"viewport\" content=\"width=device-width, initial-scale=1.0\">\n",
    "        <title>modals in JS</title>\n",
    "    </head>\n",
    "\n",
    "    <body>\n",
    "\n",
    "    </body>\n",
    "\n",
    "    <h1> this is heading</h1>\n",
    "    <p>\n",
    "        lorem hi this vivek\n",
    "    </p>\n",
    "    <h1> this is heading</h1>\n",
    "    <p>\n",
    "        lore hi this is vivek\n",
    "    </p>\n",
    "\n",
    "    <script>\n",
    "        alert(\"this is test msg\")\n",
    "        alert(\"this is test msg\")\n",
    "    </script>\n",
    "</html>"
   ]
  },
  {
   "cell_type": "code",
   "execution_count": null,
   "metadata": {
    "vscode": {
     "languageId": "html"
    }
   },
   "outputs": [],
   "source": [
    "<!DOCTYPE html>\n",
    "<html>\n",
    "\n",
    "    <head>\n",
    "        <meta charset=\"UTF-8\">\n",
    "        <meta http-equiv=\"X-UA-Compatible\" content=\"IE=edge\">\n",
    "        <meta name=\"viewport\" content=\"width=device-width, initial-scale=1.0\">\n",
    "        <title>modals in JS</title>\n",
    "    </head>\n",
    "\n",
    "    <body>\n",
    "\n",
    "    </body>\n",
    "\n",
    "    <h1> this is heading</h1>\n",
    "    <p>\n",
    "        lorem hi this vivek\n",
    "    </p>\n",
    "    <h1> this is heading</h1>\n",
    "    <p>\n",
    "        lore hi this is vivek\n",
    "    </p>\n",
    "\n",
    "    <script>\n",
    "        let name = prompt(\"enter ur name\")\n",
    "          //it will take everything as string format \n",
    "        console.log(name)\n",
    "    </script>\n",
    "</html>"
   ]
  },
  {
   "cell_type": "code",
   "execution_count": null,
   "metadata": {
    "vscode": {
     "languageId": "html"
    }
   },
   "outputs": [],
   "source": [
    "# open inspect for background response seeing"
   ]
  },
  {
   "cell_type": "code",
   "execution_count": null,
   "metadata": {
    "vscode": {
     "languageId": "html"
    }
   },
   "outputs": [],
   "source": [
    "<!DOCTYPE html>\n",
    "<html>\n",
    "\n",
    "    <head>\n",
    "        <meta charset=\"UTF-8\">\n",
    "        <meta http-equiv=\"X-UA-Compatible\" content=\"IE=edge\">\n",
    "        <meta name=\"viewport\" content=\"width=device-width, initial-scale=1.0\">\n",
    "        <title>modals in JS</title>\n",
    "    </head>\n",
    "\n",
    "    <body>\n",
    "\n",
    "    </body>\n",
    "\n",
    "    <h1> this is heading</h1>\n",
    "    <p>\n",
    "        lorem hi this vivek\n",
    "    </p>\n",
    "    <h1> this is heading</h1>\n",
    "    <p>\n",
    "        lore hi this is vivek\n",
    "    </p>\n",
    "\n",
    "    <script>\n",
    "        let x = confirm(\"are u a human\")\n",
    "        if(x){\n",
    "            console.log(\"deleted account succesfully\")\n",
    "        }\n",
    "        else{\n",
    "            console.log(\"not deleted sucesfuly\")\n",
    "        }\n",
    "    </script>\n",
    "</html>"
   ]
  }
 ],
 "metadata": {
  "language_info": {
   "name": "python"
  }
 },
 "nbformat": 4,
 "nbformat_minor": 2
}
