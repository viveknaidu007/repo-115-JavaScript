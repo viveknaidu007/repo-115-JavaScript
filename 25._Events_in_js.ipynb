{
 "cells": [
  {
   "cell_type": "code",
   "execution_count": null,
   "metadata": {},
   "outputs": [],
   "source": [
    "# we can tell events is an activity/action"
   ]
  },
  {
   "cell_type": "markdown",
   "metadata": {},
   "source": [
    "![p](img\\img14.png)"
   ]
  },
  {
   "cell_type": "markdown",
   "metadata": {},
   "source": [
    "![p](img\\img15.png)"
   ]
  },
  {
   "cell_type": "markdown",
   "metadata": {},
   "source": [
    "![p](img\\img16.png)"
   ]
  },
  {
   "cell_type": "code",
   "execution_count": null,
   "metadata": {},
   "outputs": [],
   "source": [
    "#inline event handlers"
   ]
  },
  {
   "cell_type": "code",
   "execution_count": null,
   "metadata": {
    "vscode": {
     "languageId": "html"
    }
   },
   "outputs": [],
   "source": [
    "<!DOCTYPE html>\n",
    "<html>\n",
    "\n",
    "    <head>\n",
    "        <meta charset=\"UTF-8\">\n",
    "        <meta http-equiv=\"X-UA-Compatible\" content=\"IE=edge\">\n",
    "        <meta name=\"viewport\" content=\"width=device-width, initial-scale=1.0\">\n",
    "        <title> Events</title>\n",
    "\n",
    "        <style>\n",
    "            #b1{\n",
    "                background-color: blueviolet;\n",
    "                color: white;\n",
    "                outline: none;\n",
    "                border: none;\n",
    "                height: 60px;\n",
    "                width: 230px;\n",
    "            }\n",
    "\n",
    "            #special{\n",
    "                position:absolute;\n",
    "                top:40%;\n",
    "                left:40%;\n",
    "            }\n",
    "\n",
    "            #sp{\n",
    "                height:30px;\n",
    "            }\n",
    "        </style>\n",
    "\n",
    "    </head>\n",
    "\n",
    "    <body>\n",
    "        <div id=\"special\">\n",
    "            name: <input id=\"sp\" type=\"text\"/>  <br> <br>\n",
    "            <button id=\"b1\" onclick=\"document.body.style.backgroundColor='green'\"> change background </button>\n",
    "        </div>\n",
    "    </body>\n"
   ]
  },
  {
   "cell_type": "code",
   "execution_count": null,
   "metadata": {
    "vscode": {
     "languageId": "html"
    }
   },
   "outputs": [],
   "source": [
    "#now using with JS"
   ]
  },
  {
   "cell_type": "code",
   "execution_count": null,
   "metadata": {
    "vscode": {
     "languageId": "html"
    }
   },
   "outputs": [],
   "source": [
    "<!DOCTYPE html>\n",
    "<html>\n",
    "\n",
    "    <head>\n",
    "        <meta charset=\"UTF-8\">\n",
    "        <meta http-equiv=\"X-UA-Compatible\" content=\"IE=edge\">\n",
    "        <meta name=\"viewport\" content=\"width=device-width, initial-scale=1.0\">\n",
    "        <title> Events</title>\n",
    "\n",
    "        <style>\n",
    "            #b1{\n",
    "                background-color: blueviolet;\n",
    "                color: white;\n",
    "                outline: none;\n",
    "                border: none;\n",
    "                height: 60px;\n",
    "                width: 230px;\n",
    "            }\n",
    "\n",
    "            #special{\n",
    "                position:absolute;\n",
    "                top:40%;\n",
    "                left:40%;\n",
    "            }\n",
    "\n",
    "            #sp{\n",
    "                height:30px;\n",
    "            }\n",
    "        </style>\n",
    "\n",
    "    </head>\n",
    "\n",
    "    <body>\n",
    "        <div id=\"special\">\n",
    "            name: <input id=\"sp\" type=\"text\"/>  <br> <br>\n",
    "            <button id=\"b1\" onclick=\"document.body.style.backgroundColor='green'\"> change background </button>\n",
    "        \n",
    "            <script>\n",
    "                function change(){\n",
    "                    document.body.style.backgroundColor='yellow'\n",
    "                }\n",
    "            </script>\n",
    "        \n",
    "        </div>\n",
    "\n",
    "    </body>\n"
   ]
  },
  {
   "cell_type": "code",
   "execution_count": null,
   "metadata": {
    "vscode": {
     "languageId": "html"
    }
   },
   "outputs": [],
   "source": [
    "# using event properties in Js:"
   ]
  },
  {
   "cell_type": "code",
   "execution_count": null,
   "metadata": {
    "vscode": {
     "languageId": "html"
    }
   },
   "outputs": [],
   "source": [
    "<!DOCTYPE html>\n",
    "<html>\n",
    "\n",
    "    <head>\n",
    "        <meta charset=\"UTF-8\">\n",
    "        <meta http-equiv=\"X-UA-Compatible\" content=\"IE=edge\">\n",
    "        <meta name=\"viewport\" content=\"width=device-width, initial-scale=1.0\">\n",
    "        <title> Events</title>\n",
    "\n",
    "        <style>\n",
    "            #b1{\n",
    "                background-color: blueviolet;\n",
    "                color: white;\n",
    "                outline: none;\n",
    "                border: none;\n",
    "                height: 60px;\n",
    "                width: 230px;\n",
    "            }\n",
    "\n",
    "            #special{\n",
    "                position:absolute;\n",
    "                top:40%;\n",
    "                left:40%;\n",
    "            }\n",
    "\n",
    "            #sp{\n",
    "                height:30px;\n",
    "            }\n",
    "        </style>\n",
    "\n",
    "    </head>\n",
    "\n",
    "    <body>\n",
    "        <div id=\"special\">\n",
    "            name: <input id=\"sp\" type=\"text\"/>  <br> <br>\n",
    "            <button id=\"b1\" onclick=\"change()\"> change background </button>\n",
    "        \n",
    "            <script>\n",
    "                function change(){\n",
    "                    document.body.style.backgroundColor='pink'\n",
    "                }\n",
    "            </script>\n",
    "        \n",
    "        </div>\n",
    "\n",
    "    </body>\n"
   ]
  },
  {
   "cell_type": "code",
   "execution_count": null,
   "metadata": {
    "vscode": {
     "languageId": "html"
    }
   },
   "outputs": [],
   "source": [
    "<!DOCTYPE html>\n",
    "<html>\n",
    "\n",
    "    <head>\n",
    "        <meta charset=\"UTF-8\">\n",
    "        <meta http-equiv=\"X-UA-Compatible\" content=\"IE=edge\">\n",
    "        <meta name=\"viewport\" content=\"width=device-width, initial-scale=1.0\">\n",
    "        <title> Events</title>\n",
    "\n",
    "        <style>\n",
    "            #b1{\n",
    "                background-color: blueviolet;\n",
    "                color: white;\n",
    "                outline: none;\n",
    "                border: none;\n",
    "                height: 60px;\n",
    "                width: 230px;\n",
    "            }\n",
    "\n",
    "            #special{\n",
    "                position:absolute;\n",
    "                top:40%;\n",
    "                left:40%;\n",
    "            }\n",
    "\n",
    "            #sp{\n",
    "                height:30px;\n",
    "            }\n",
    "        </style>\n",
    "\n",
    "    </head>\n",
    "\n",
    "    <body>\n",
    "        <div id=\"special\">\n",
    "            name: <input id=\"sp\" type=\"text\"/>  <br> <br>\n",
    "            <button id=\"b1\" > change background </button>\n",
    "        \n",
    "            <script>\n",
    "                let btn = document.getElementById(\"b1\")\n",
    "                btn.onclick = change;\n",
    "                function change(){\n",
    "                    document.body.style.backgroundColor='pink'\n",
    "                }\n",
    "            </script>\n",
    "        \n",
    "        </div>\n",
    "\n",
    "    </body>\n"
   ]
  },
  {
   "cell_type": "code",
   "execution_count": null,
   "metadata": {
    "vscode": {
     "languageId": "html"
    }
   },
   "outputs": [],
   "source": [
    "#using  addEvenListener() method: \n",
    "#here u can see below wehenver u type \"a\" it will display alert"
   ]
  },
  {
   "cell_type": "code",
   "execution_count": null,
   "metadata": {
    "vscode": {
     "languageId": "html"
    }
   },
   "outputs": [],
   "source": [
    "<!DOCTYPE html>\n",
    "<html>\n",
    "\n",
    "    <head>\n",
    "        <meta charset=\"UTF-8\">\n",
    "        <meta http-equiv=\"X-UA-Compatible\" content=\"IE=edge\">\n",
    "        <meta name=\"viewport\" content=\"width=device-width, initial-scale=1.0\">\n",
    "        <title> Events</title>\n",
    "\n",
    "        <style>\n",
    "            #b1{\n",
    "                background-color: blueviolet;\n",
    "                color: white;\n",
    "                outline: none;\n",
    "                border: none;\n",
    "                height: 60px;\n",
    "                width: 230px;\n",
    "            }\n",
    "\n",
    "            #special{\n",
    "                position:absolute;\n",
    "                top:40%;\n",
    "                left:40%;\n",
    "            }\n",
    "\n",
    "            #sp{\n",
    "                height:30px;\n",
    "            }\n",
    "        </style>\n",
    "\n",
    "    </head>\n",
    "\n",
    "    <body>\n",
    "        <div id=\"special\">\n",
    "            name: <input id=\"fullname\" type=\"text\"/>  <br> <br>\n",
    "            <button id=\"b1\" > change background </button>\n",
    "        </div>\n",
    "\n",
    "            <script>\n",
    "                let fn = document.getElementById(\"fullname\")\n",
    "                fn.addEventListener('keyup',change)\n",
    "\n",
    "                function change(evnt){\n",
    "                    console.log(evnt)\n",
    "                    if(event.key=='a'){\n",
    "                        alert(\"a not allowed\")\n",
    "                    }\n",
    "                    fn.style.backgroundColor=\"pink\"\n",
    "                }\n",
    "            </script>\n",
    "\n",
    "    </body>\n",
    "\n",
    "</html>\n"
   ]
  },
  {
   "cell_type": "code",
   "execution_count": null,
   "metadata": {
    "vscode": {
     "languageId": "html"
    }
   },
   "outputs": [],
   "source": [
    "#below code looks good , it will change colors of everything:"
   ]
  },
  {
   "cell_type": "code",
   "execution_count": null,
   "metadata": {
    "vscode": {
     "languageId": "html"
    }
   },
   "outputs": [],
   "source": [
    "<!DOCTYPE html>\n",
    "<html>\n",
    "\n",
    "    <head>\n",
    "        <meta charset=\"UTF-8\">\n",
    "        <meta http-equiv=\"X-UA-Compatible\" content=\"IE=edge\">\n",
    "        <meta name=\"viewport\" content=\"width=device-width, initial-scale=1.0\">\n",
    "        <title> Events</title>\n",
    "\n",
    "        <style>\n",
    "            #b1{\n",
    "                background-color: blueviolet;\n",
    "                color: white;\n",
    "                outline: none;\n",
    "                border: none;\n",
    "                height: 60px;\n",
    "                width: 230px;\n",
    "            }\n",
    "\n",
    "            #special{\n",
    "                position:absolute;\n",
    "                top:40%;\n",
    "                left:40%;\n",
    "            }\n",
    "\n",
    "            #sp{\n",
    "                height:30px;\n",
    "            }\n",
    "        </style>\n",
    "\n",
    "    </head>\n",
    "\n",
    "    <body>\n",
    "        <div id=\"special\">\n",
    "            name: <input id=\"sp\" type=\"text\"/>  <br> <br>\n",
    "            <button id=\"b1\" onclick=\"change(event);\"> change background </button>\n",
    "        </div>\n",
    "\n",
    "            <script>\n",
    "                function change(e){\n",
    "                    var letters='0123456789ABCDEF';\n",
    "                    var color='#';\n",
    "                    for (var i = 0; i<0; i++);\n",
    "                    var color='#'\n",
    "                    for (var i = 0; i < 6; i++){\n",
    "                        var r=Math.floor(Math.random()*16);\n",
    "                        color=color+letters[r]\n",
    "                    }\n",
    "                    document.body.style.background = color\n",
    "                }\n",
    "                var s = document.getElementById('sp')\n",
    "                s.onfocus = change2\n",
    "                s.onblur = change3\n",
    "            </script>\n",
    "\n",
    "    </body>\n",
    "\n",
    "</html>\n"
   ]
  }
 ],
 "metadata": {
  "language_info": {
   "name": "python"
  }
 },
 "nbformat": 4,
 "nbformat_minor": 2
}
