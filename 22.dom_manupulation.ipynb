{
 "cells": [
  {
   "cell_type": "markdown",
   "metadata": {},
   "source": [
    "![p](img\\img11.png)"
   ]
  },
  {
   "cell_type": "code",
   "execution_count": null,
   "metadata": {
    "vscode": {
     "languageId": "plaintext"
    }
   },
   "outputs": [],
   "source": [
    "#append child"
   ]
  },
  {
   "cell_type": "code",
   "execution_count": null,
   "metadata": {
    "vscode": {
     "languageId": "html"
    }
   },
   "outputs": [],
   "source": [
    "<!DOCTYPE html>\n",
    "<html>\n",
    "    <head>\n",
    "        <meta charset=\"UTF-8\">\n",
    "        <meta http-equiv=\"X-UA-Compatible\" content=\"IE=edge\">\n",
    "        <meta name=\"viewport\" content=\"width=device-width, initial-scale=1.0\">\n",
    "        <title> Dom manipulation </title>\n",
    "    </head>\n",
    "\n",
    "    <body>\n",
    "        <div id=\"first\">\n",
    "            <p> this si first para in devisoin1</p>\n",
    "            <p> this is second para in divisoin2</p>\n",
    "        </div>\n",
    "\n",
    "        <div id=\"second\">\n",
    "            <p> this is the 1st para in divison2</p>\n",
    "            <p> this is second para in divion2</p>\n",
    "        </div>\n",
    "    </body>\n",
    "\n",
    "    <script>\n",
    "        var n = document.createElement('p')\n",
    "        n.innerText = \"this is third paraph\"\n",
    "        console.log(n)\n",
    "        var parent = document.getElementById(\"second\")\n",
    "        console.log(parent)\n",
    "\n",
    "        parent.appendChild(n)\n",
    "        \n",
    "    </script>\n",
    "\n",
    "</html>"
   ]
  },
  {
   "cell_type": "code",
   "execution_count": null,
   "metadata": {
    "vscode": {
     "languageId": "html"
    }
   },
   "outputs": [],
   "source": [
    "#innerhtml , and innertext"
   ]
  },
  {
   "cell_type": "code",
   "execution_count": null,
   "metadata": {
    "vscode": {
     "languageId": "html"
    }
   },
   "outputs": [],
   "source": [
    "<!DOCTYPE html>\n",
    "<html>\n",
    "    <head>\n",
    "        <meta charset=\"UTF-8\">\n",
    "        <meta http-equiv=\"X-UA-Compatible\" content=\"IE=edge\">\n",
    "        <meta name=\"viewport\" content=\"width=device-width, initial-scale=1.0\">\n",
    "        <title> Dom manipulation </title>\n",
    "    </head>\n",
    "\n",
    "    <body>\n",
    "        <div id=\"first\">\n",
    "            <p> this si first para in devisoin1</p>\n",
    "            <p> this is second para in divisoin2</p>\n",
    "        </div>\n",
    "\n",
    "        <div id=\"second\">\n",
    "            <p> this is the 1st para in divison2</p>\n",
    "            <p> this is second para in divion2</p>\n",
    "        </div>\n",
    "    </body>\n",
    "\n",
    "    <script>\n",
    "\n",
    "        var n = document.createElement('p')\n",
    "        n.innerText = \"this is third paraph\"\n",
    "        console.log(n)\n",
    "        var parent = document.getElementById(\"second\")\n",
    "        console.log(parent)\n",
    "\n",
    "        parent.appendChild(n)\n",
    "\n",
    "        console.log(parent.innerText) // it will full thing was string\n",
    "        console.log(parent.innerHTML) // IT WIL TAKE tags as spearate and text as separate\n",
    "\n",
    "    </script>\n",
    "\n",
    "</html>"
   ]
  },
  {
   "cell_type": "code",
   "execution_count": null,
   "metadata": {
    "vscode": {
     "languageId": "html"
    }
   },
   "outputs": [],
   "source": [
    "#insertbefore:"
   ]
  },
  {
   "cell_type": "code",
   "execution_count": null,
   "metadata": {
    "vscode": {
     "languageId": "html"
    }
   },
   "outputs": [],
   "source": [
    "<!DOCTYPE html>\n",
    "<html>\n",
    "    <head>\n",
    "        <meta charset=\"UTF-8\">\n",
    "        <meta http-equiv=\"X-UA-Compatible\" content=\"IE=edge\">\n",
    "        <meta name=\"viewport\" content=\"width=device-width, initial-scale=1.0\">\n",
    "        <title> Dom manipulation </title>\n",
    "    </head>\n",
    "\n",
    "    <body>\n",
    "        <div id=\"first\">\n",
    "            <p> this si first para in devisoin1</p>\n",
    "            <p> this is second para in divisoin2</p>\n",
    "        </div>\n",
    "\n",
    "        <div id=\"second\">\n",
    "            <p> this is the 1st para in divison2</p>\n",
    "            <p> this is second para in divion2</p>\n",
    "        </div>\n",
    "    </body>\n",
    "\n",
    "    <script>\n",
    "        var last = document.getElementById(\"last\")\n",
    "    </script>\n",
    "\n",
    "</html>"
   ]
  },
  {
   "cell_type": "code",
   "execution_count": null,
   "metadata": {
    "vscode": {
     "languageId": "html"
    }
   },
   "outputs": [],
   "source": [
    "#remove"
   ]
  },
  {
   "cell_type": "code",
   "execution_count": null,
   "metadata": {
    "vscode": {
     "languageId": "html"
    }
   },
   "outputs": [],
   "source": [
    "<!DOCTYPE html>\n",
    "<html>\n",
    "    <head>\n",
    "        <meta charset=\"UTF-8\">\n",
    "        <meta http-equiv=\"X-UA-Compatible\" content=\"IE=edge\">\n",
    "        <meta name=\"viewport\" content=\"width=device-width, initial-scale=1.0\">\n",
    "        <title> Dom manipulation </title>\n",
    "    </head>\n",
    "\n",
    "    <body>\n",
    "        <div id=\"first\">\n",
    "            <p> this si first para in devisoin1</p>\n",
    "            <p> this is second para in divisoin2</p>\n",
    "        </div>\n",
    "\n",
    "        <div id=\"last\">\n",
    "            <p> this is the 1st para in divison2</p>\n",
    "            <p> this is second para in divion2</p>\n",
    "        </div>\n",
    "    </body>\n",
    "\n",
    "    <script>\n",
    "        var last = document.getElementById(\"last\")\n",
    "        last.remove()\n",
    "    </script>\n",
    "\n",
    "</html>"
   ]
  },
  {
   "cell_type": "code",
   "execution_count": null,
   "metadata": {
    "vscode": {
     "languageId": "html"
    }
   },
   "outputs": [],
   "source": [
    "#remove child element:"
   ]
  },
  {
   "cell_type": "code",
   "execution_count": null,
   "metadata": {
    "vscode": {
     "languageId": "html"
    }
   },
   "outputs": [],
   "source": [
    "<!DOCTYPE html>\n",
    "<html>\n",
    "    <head>\n",
    "        <meta charset=\"UTF-8\">\n",
    "        <meta http-equiv=\"X-UA-Compatible\" content=\"IE=edge\">\n",
    "        <meta name=\"viewport\" content=\"width=device-width, initial-scale=1.0\">\n",
    "        <title>DOM Manipulation</title>\n",
    "    </head>\n",
    "    <body>\n",
    "        <div id=\"first\">\n",
    "            <p>This is the first paragraph in division1.</p>\n",
    "            <p>This is the second paragraph in division1.</p>\n",
    "        </div>\n",
    "        <div id=\"second\">\n",
    "            <p id=\"pfirst\">This is the 1st paragraph in division2.</p>\n",
    "            <p id=\"last\">This is the second paragraph in division2.</p>\n",
    "        </div>\n",
    "    </body>\n",
    "    <script>\n",
    "        var n = document.createElement('p');\n",
    "        n.innerText = \"This is a special paragraph in division2.\";\n",
    "\n",
    "        var parent = document.getElementById(\"second\");\n",
    "        var last = document.getElementById(\"pfirst\");\n",
    "        console.log(last);\n",
    "\n",
    "        parent.removeChild(last);\n",
    "        //parent.appendChild(n);  // Append the new paragraph to the parent div\n",
    "    </script>\n",
    "</html>\n"
   ]
  },
  {
   "cell_type": "code",
   "execution_count": null,
   "metadata": {
    "vscode": {
     "languageId": "html"
    }
   },
   "outputs": [],
   "source": [
    "#replace"
   ]
  },
  {
   "cell_type": "code",
   "execution_count": null,
   "metadata": {
    "vscode": {
     "languageId": "html"
    }
   },
   "outputs": [],
   "source": [
    "<!DOCTYPE html>\n",
    "<html>\n",
    "    <head>\n",
    "        <meta charset=\"UTF-8\">\n",
    "        <meta http-equiv=\"X-UA-Compatible\" content=\"IE=edge\">\n",
    "        <meta name=\"viewport\" content=\"width=device-width, initial-scale=1.0\">\n",
    "        <title>DOM Manipulation</title>\n",
    "    </head>\n",
    "    <body>\n",
    "        <div id=\"first\">\n",
    "            <p>This is the first paragraph in division1.</p>\n",
    "            <p>This is the second paragraph in division1.</p>\n",
    "        </div>\n",
    "        <div id=\"second\">\n",
    "            <p id=\"pfirst\">This is the 1st paragraph in division2.</p>\n",
    "            <p id=\"last\">This is the second paragraph in division2.</p>\n",
    "        </div>\n",
    "    </body>\n",
    "    <script>\n",
    "        var n = document.createElement('p');\n",
    "        n.innerText = \"This is a special paragraph in division2.\";\n",
    "\n",
    "        var last = document.getElementById(\"last\")\n",
    "        last.replaceChildren(n)\n",
    "        \n",
    "    </script>\n",
    "</html>\n"
   ]
  }
 ],
 "metadata": {
  "language_info": {
   "name": "python"
  }
 },
 "nbformat": 4,
 "nbformat_minor": 2
}
