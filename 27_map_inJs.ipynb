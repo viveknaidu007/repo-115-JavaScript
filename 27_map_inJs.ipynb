{
 "cells": [
  {
   "cell_type": "code",
   "execution_count": null,
   "metadata": {},
   "outputs": [],
   "source": [
    "# map methods "
   ]
  },
  {
   "cell_type": "code",
   "execution_count": null,
   "metadata": {},
   "outputs": [],
   "source": [
    "#we can do already exits data to modify we can use this"
   ]
  },
  {
   "cell_type": "code",
   "execution_count": null,
   "metadata": {},
   "outputs": [],
   "source": [
    "#ex: inspect :"
   ]
  },
  {
   "cell_type": "code",
   "execution_count": null,
   "metadata": {
    "vscode": {
     "languageId": "html"
    }
   },
   "outputs": [],
   "source": [
    "<!DOCTYPE html>\n",
    "<html lang=\"en\">\n",
    "    <head>\n",
    "        <meta charset=\"UTF-8\">\n",
    "        <meta http-equiv=\"X-UA-Compatible\" content=\"IE=edge\">\n",
    "        <meta name=\"viewport\" content=\"width=device-width, initial-scale=1.0\">\n",
    "        <title> map </title>\n",
    "        <!-- set timeout() and set interval() functions -->\n",
    "    </head>\n",
    "\n",
    "    <body>\n",
    "        <script>\n",
    "            var birthyears = [2000,2015,2017,2018,2020]\n",
    "            ages = []\n",
    "            var ages = birthyears.map(function(ele,index,arr){\n",
    "                let age = 2021-ele\n",
    "                return age;\n",
    "            })\n",
    "            console.log(birthyears)\n",
    "            console.table(ages)\n",
    "\n",
    "        </script>\n",
    "\n",
    "    </body>\n",
    "</html>"
   ]
  },
  {
   "cell_type": "code",
   "execution_count": null,
   "metadata": {
    "vscode": {
     "languageId": "html"
    }
   },
   "outputs": [],
   "source": [
    "#ex: inspect:"
   ]
  },
  {
   "cell_type": "code",
   "execution_count": null,
   "metadata": {
    "vscode": {
     "languageId": "html"
    }
   },
   "outputs": [],
   "source": [
    "<!DOCTYPE html>\n",
    "<html lang=\"en\">\n",
    "    <head>\n",
    "        <meta charset=\"UTF-8\">\n",
    "        <meta http-equiv=\"X-UA-Compatible\" content=\"IE=edge\">\n",
    "        <meta name=\"viewport\" content=\"width=device-width, initial-scale=1.0\">\n",
    "        <title> map </title>\n",
    "        <!-- set timeout() and set interval() functions -->\n",
    "    </head>\n",
    "\n",
    "    <body>\n",
    "        <script>\n",
    "            var birthyears = [2000,2015,2017,2018,2020]\n",
    "\n",
    "            var ages = birthyears.map(ageFind)\n",
    "            function ageFind(ele,index,arr){\n",
    "                console.log(ele)\n",
    "                console.log(index)\n",
    "                console.log(arr)\n",
    "                let age = 2021-ele\n",
    "                return age;\n",
    "            }\n",
    "            console.table(birthyears)\n",
    "            console.table(ages)\n",
    "\n",
    "        </script>\n",
    "\n",
    "    </body>\n",
    "</html>"
   ]
  }
 ],
 "metadata": {
  "language_info": {
   "name": "python"
  }
 },
 "nbformat": 4,
 "nbformat_minor": 2
}
